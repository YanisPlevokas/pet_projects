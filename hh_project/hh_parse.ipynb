{
 "cells": [
  {
   "cell_type": "code",
   "execution_count": 1,
   "metadata": {},
   "outputs": [],
   "source": [
    "from parse_hh_data import download, parse\n",
    "import json\n",
    "import requests\n",
    "import pandas\n",
    "import numpy\n",
    "from tqdm import tqdm\n",
    "import sys\n",
    "import os"
   ]
  },
  {
   "cell_type": "code",
   "execution_count": 6,
   "metadata": {},
   "outputs": [],
   "source": [
    "with open('moscow_metro.json',encoding='utf-8') as json_metro:\n",
    "    data_metro = json.load(json_metro)\n",
    "with open('specializations.json',encoding='utf-8') as json_specs:\n",
    "    data_specs = json.load(json_specs)"
   ]
  },
  {
   "cell_type": "code",
   "execution_count": 42,
   "metadata": {},
   "outputs": [],
   "source": [
    "moscow_area_id = 1\n",
    "search_period = 30\n",
    "all_vacancies = []"
   ]
  },
  {
   "cell_type": "code",
   "execution_count": 43,
   "metadata": {},
   "outputs": [
    {
     "name": "stderr",
     "output_type": "stream",
     "text": [
      "\n",
      "  0%|          | 0/37 [00:00<?, ?it/s]\u001b[A\n",
      "  3%|▎         | 1/37 [00:50<30:33, 50.94s/it]\u001b[A\n",
      "  5%|▌         | 2/37 [01:54<31:54, 54.70s/it]\u001b[A\n",
      "  8%|▊         | 3/37 [02:57<32:28, 57.32s/it]\u001b[A\n",
      " 11%|█         | 4/37 [03:49<30:31, 55.49s/it]\u001b[A\n",
      " 14%|█▎        | 5/37 [04:37<28:25, 53.30s/it]\u001b[A\n",
      " 16%|█▌        | 6/37 [05:41<29:16, 56.65s/it]\u001b[A\n",
      " 19%|█▉        | 7/37 [06:39<28:25, 56.84s/it]\u001b[A\n",
      " 22%|██▏       | 8/37 [07:31<26:50, 55.54s/it]\u001b[A\n",
      " 24%|██▍       | 9/37 [08:36<27:10, 58.24s/it]\u001b[A\n",
      " 27%|██▋       | 10/37 [09:40<27:02, 60.10s/it]\u001b[A\n",
      " 30%|██▉       | 11/37 [10:46<26:46, 61.80s/it]\u001b[A\n",
      " 32%|███▏      | 12/37 [11:27<23:08, 55.56s/it]\u001b[A\n",
      " 35%|███▌      | 13/37 [12:32<23:19, 58.33s/it]\u001b[A\n",
      " 38%|███▊      | 14/37 [13:47<24:17, 63.36s/it]\u001b[A\n",
      " 41%|████      | 15/37 [14:54<23:39, 64.53s/it]\u001b[A\n",
      " 43%|████▎     | 16/37 [15:51<21:46, 62.20s/it]\u001b[A\n",
      " 46%|████▌     | 17/37 [16:46<20:04, 60.21s/it]\u001b[A\n",
      " 49%|████▊     | 18/37 [17:42<18:36, 58.75s/it]\u001b[A\n",
      " 51%|█████▏    | 19/37 [18:41<17:38, 58.81s/it]\u001b[A\n",
      " 54%|█████▍    | 20/37 [19:47<17:19, 61.15s/it]\u001b[A\n",
      " 57%|█████▋    | 21/37 [20:41<15:41, 58.82s/it]\u001b[A\n",
      " 59%|█████▉    | 22/37 [21:48<15:21, 61.43s/it]\u001b[A\n",
      " 62%|██████▏   | 23/37 [22:44<13:57, 59.81s/it]\u001b[A\n",
      " 65%|██████▍   | 24/37 [23:59<13:56, 64.31s/it]\u001b[A\n",
      " 68%|██████▊   | 25/37 [25:18<13:43, 68.66s/it]\u001b[A\n",
      " 70%|███████   | 26/37 [26:30<12:48, 69.83s/it]\u001b[A\n",
      " 73%|███████▎  | 27/37 [27:11<10:11, 61.17s/it]\u001b[A\n",
      " 76%|███████▌  | 28/37 [28:11<09:05, 60.63s/it]\u001b[A\n",
      " 78%|███████▊  | 29/37 [29:20<08:27, 63.38s/it]\u001b[A\n",
      " 81%|████████  | 30/37 [30:34<07:44, 66.40s/it]\u001b[A\n",
      " 84%|████████▍ | 31/37 [31:48<06:52, 68.81s/it]\u001b[A\n",
      " 86%|████████▋ | 32/37 [32:50<05:33, 66.77s/it]\u001b[A\n",
      " 89%|████████▉ | 33/37 [33:36<04:02, 60.60s/it]\u001b[A\n",
      " 92%|█████████▏| 34/37 [34:42<03:06, 62.12s/it]\u001b[A\n",
      " 95%|█████████▍| 35/37 [35:34<01:58, 59.09s/it]\u001b[A\n",
      " 97%|█████████▋| 36/37 [36:45<01:02, 62.63s/it]\u001b[A\n",
      "100%|██████████| 37/37 [37:46<00:00, 61.25s/it]\u001b[A\n"
     ]
    }
   ],
   "source": [
    "for spec in tqdm(data_specs[0]['specializations']):\n",
    "    for metro_line in data_metro['lines']:\n",
    "        for metro_station in metro_line['stations']:\n",
    "            #print(metro_station['name'], metro_station['id'], specialization['name'])\n",
    "            all_vacancies.append(download.vacancy_ids(area_id=str(moscow_area_id)+'&showClusters=true&only_with_salary=true&metro='+metro_station['id'], \n",
    "                                            specialization_id=spec['id'], search_period=search_period, num_pages=10))"
   ]
  },
  {
   "cell_type": "code",
   "execution_count": 44,
   "metadata": {},
   "outputs": [
    {
     "data": {
      "text/plain": [
       "12691"
      ]
     },
     "execution_count": 44,
     "metadata": {},
     "output_type": "execute_result"
    }
   ],
   "source": [
    "len(all_vacancies)"
   ]
  },
  {
   "cell_type": "code",
   "execution_count": 47,
   "metadata": {},
   "outputs": [],
   "source": [
    "summa = 0\n",
    "for i in all_vacancies:\n",
    "    summa += len(i)"
   ]
  },
  {
   "cell_type": "code",
   "execution_count": 48,
   "metadata": {},
   "outputs": [
    {
     "data": {
      "text/plain": [
       "21914"
      ]
     },
     "execution_count": 48,
     "metadata": {},
     "output_type": "execute_result"
    }
   ],
   "source": [
    "summa"
   ]
  },
  {
   "cell_type": "code",
   "execution_count": 49,
   "metadata": {},
   "outputs": [],
   "source": [
    "flat_list = [item for sublist in all_vacancies for item in sublist]"
   ]
  },
  {
   "cell_type": "code",
   "execution_count": 50,
   "metadata": {},
   "outputs": [
    {
     "data": {
      "text/plain": [
       "21914"
      ]
     },
     "execution_count": 50,
     "metadata": {},
     "output_type": "execute_result"
    }
   ],
   "source": [
    "len(flat_list)"
   ]
  },
  {
   "cell_type": "code",
   "execution_count": 17,
   "metadata": {},
   "outputs": [
    {
     "data": {
      "text/plain": [
       "[{'id': '1.475',\n",
       "  'name': 'Игровое ПО',\n",
       "  'profarea_id': '1',\n",
       "  'profarea_name': 'Информационные технологии, интернет, телеком'},\n",
       " {'id': '1.221',\n",
       "  'name': 'Программирование, Разработка',\n",
       "  'profarea_id': '1',\n",
       "  'profarea_name': 'Информационные технологии, интернет, телеком'},\n",
       " {'id': '1.82',\n",
       "  'name': 'Инженер',\n",
       "  'profarea_id': '1',\n",
       "  'profarea_name': 'Информационные технологии, интернет, телеком'},\n",
       " {'id': '1.744',\n",
       "  'name': 'Другое',\n",
       "  'profarea_id': '1',\n",
       "  'profarea_name': 'Информационные технологии, интернет, телеком'},\n",
       " {'id': '1.89',\n",
       "  'name': 'Интернет',\n",
       "  'profarea_id': '1',\n",
       "  'profarea_name': 'Информационные технологии, интернет, телеком'}]"
      ]
     },
     "execution_count": 17,
     "metadata": {},
     "output_type": "execute_result"
    }
   ],
   "source": [
    "download.vacancy(43958325)['specializations']"
   ]
  },
  {
   "cell_type": "code",
   "execution_count": 51,
   "metadata": {},
   "outputs": [],
   "source": [
    "our_flat_list = list(set(flat_list))"
   ]
  },
  {
   "cell_type": "code",
   "execution_count": 52,
   "metadata": {},
   "outputs": [
    {
     "data": {
      "text/plain": [
       "4618"
      ]
     },
     "execution_count": 52,
     "metadata": {},
     "output_type": "execute_result"
    }
   ],
   "source": [
    "len(our_flat_list)"
   ]
  },
  {
   "cell_type": "code",
   "execution_count": 53,
   "metadata": {},
   "outputs": [],
   "source": [
    "with open('data_it.json', 'w') as f:\n",
    "    json.dump(our_flat_list, f)"
   ]
  },
  {
   "cell_type": "code",
   "execution_count": 3,
   "metadata": {},
   "outputs": [],
   "source": [
    "with open('data_it.json',encoding='utf-8') as json_vacs:\n",
    "    data_vacs = json.load(json_vacs)"
   ]
  },
  {
   "cell_type": "code",
   "execution_count": 5,
   "metadata": {},
   "outputs": [],
   "source": [
    "all_vacancies_in_list = []"
   ]
  },
  {
   "cell_type": "code",
   "execution_count": 7,
   "metadata": {},
   "outputs": [
    {
     "name": "stderr",
     "output_type": "stream",
     "text": [
      "100%|██████████| 4618/4618 [08:52<00:00,  8.67it/s]\n"
     ]
    }
   ],
   "source": [
    "for vacancy in tqdm(data_vacs):\n",
    "    try:\n",
    "        curr_vac = download.vacancy(vacancy)\n",
    "        del curr_vac['branded_description']\n",
    "        all_vacancies_in_list.append(curr_vac)\n",
    "    except Exception as e:\n",
    "        print(vacancy, e)"
   ]
  },
  {
   "cell_type": "code",
   "execution_count": null,
   "metadata": {},
   "outputs": [],
   "source": []
  }
 ],
 "metadata": {
  "kernelspec": {
   "display_name": "Python 3",
   "language": "python",
   "name": "python3"
  },
  "language_info": {
   "codemirror_mode": {
    "name": "ipython",
    "version": 3
   },
   "file_extension": ".py",
   "mimetype": "text/x-python",
   "name": "python",
   "nbconvert_exporter": "python",
   "pygments_lexer": "ipython3",
   "version": "3.8.5"
  }
 },
 "nbformat": 4,
 "nbformat_minor": 4
}
